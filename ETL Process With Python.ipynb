{
 "cells": [
  {
   "cell_type": "markdown",
   "id": "992c37c1",
   "metadata": {},
   "source": [
    "# NYC Crime Report ETL Process"
   ]
  },
  {
   "cell_type": "code",
   "execution_count": 1,
   "id": "f74dceb3",
   "metadata": {},
   "outputs": [],
   "source": [
    "# import libraries\n",
    "import pandas as pd\n",
    "import numpy as np\n",
    "from sodapy import Socrata\n",
    "from google.cloud import bigquery\n",
    "from google.oauth2 import service_account"
   ]
  },
  {
   "cell_type": "code",
   "execution_count": 2,
   "id": "a56d2e04",
   "metadata": {},
   "outputs": [],
   "source": [
    "# setting up the host name for the API endpoint\n",
    "data_url = 'data.cityofnewyork.us'"
   ]
  },
  {
   "cell_type": "code",
   "execution_count": 3,
   "id": "f70b3767",
   "metadata": {},
   "outputs": [],
   "source": [
    "# setting up the data set at the API endpoint\n",
    "data_set = '5uac-w243'"
   ]
  },
  {
   "cell_type": "code",
   "execution_count": 4,
   "id": "19b7cbad",
   "metadata": {},
   "outputs": [],
   "source": [
    "# Setting up the App Token\n",
    "# Got it from the: https://data.cityofnewyork.us/profile/edit/developer_settings\n",
    "app_token = 'qYDKNaklkMtFp8UDLPLdr75OP'"
   ]
  },
  {
   "cell_type": "code",
   "execution_count": 5,
   "id": "2080a00f",
   "metadata": {},
   "outputs": [
    {
     "name": "stdout",
     "output_type": "stream",
     "text": [
      "nyc open data client name is: <sodapy.socrata.Socrata object at 0x7fb53a36bca0>\n",
      "nyc open data client data type is: <class 'sodapy.socrata.Socrata'>\n"
     ]
    }
   ],
   "source": [
    "# create the client that points to the API endpoint\n",
    "nyc_open_data_client = Socrata(data_url, app_token, timeout = 200)\n",
    "print(f\"nyc open data client name is: {nyc_open_data_client}\")\n",
    "print(f\"nyc open data client data type is: {type(nyc_open_data_client)}\")"
   ]
  },
  {
   "cell_type": "code",
   "execution_count": 6,
   "id": "a278a5d1",
   "metadata": {},
   "outputs": [],
   "source": [
    "# Key TO FILE PATH\n",
    "key_path = r'/Users/wangdu/Desktop/Group Project/pro-bruin-361120-d4ff3b13a86f.json'"
   ]
  },
  {
   "cell_type": "code",
   "execution_count": 7,
   "id": "56b6e809",
   "metadata": {},
   "outputs": [
    {
     "name": "stdout",
     "output_type": "stream",
     "text": [
      "bigquery client name is: <google.cloud.bigquery.client.Client object at 0x7fd35961ae80>\n",
      "bigquery client data type is: <class 'google.cloud.bigquery.client.Client'>\n"
     ]
    }
   ],
   "source": [
    "# setting up big query credentials\n",
    "\n",
    "credentials = service_account.Credentials.from_service_account_file(key_path,\n",
    "                                                                    scopes=[\"https://www.googleapis.com/auth/cloud-platform\"],)\n",
    "bigquery_client = bigquery.Client(credentials = credentials,\n",
    "                                 project = credentials.project_id)\n",
    "\n",
    "print(f\"bigquery client name is: {bigquery_client}\")\n",
    "print(f\"bigquery client data type is: {type(bigquery_client)}\")"
   ]
  },
  {
   "cell_type": "code",
   "execution_count": 7,
   "id": "5df18000",
   "metadata": {},
   "outputs": [
    {
     "name": "stdout",
     "output_type": "stream",
     "text": [
      "your dataset_id is: pro-bruin-361120.NYPD_Complaint_Data\n"
     ]
    }
   ],
   "source": [
    "#defining the location in BigQuery to load our dimensions later\n",
    "dataset_id = 'pro-bruin-361120.NYPD_Complaint_Data'   \n",
    "dataset_id = dataset_id.replace(':', '.')\n",
    "print(f\"your dataset_id is: {dataset_id}\")"
   ]
  },
  {
   "cell_type": "code",
   "execution_count": 8,
   "id": "d4c48565",
   "metadata": {},
   "outputs": [
    {
     "name": "stdout",
     "output_type": "stream",
     "text": [
      "total records in 5uac-w243: 531768\n"
     ]
    }
   ],
   "source": [
    "# Get the total number of records in our the entire data set\n",
    "total_record_count = nyc_open_data_client.get(data_set, select = \"COUNT(*)\")\n",
    "print(f\"total records in {data_set}: {total_record_count[0]['COUNT']}\")"
   ]
  },
  {
   "cell_type": "code",
   "execution_count": 9,
   "id": "41a920bc",
   "metadata": {},
   "outputs": [],
   "source": [
    "# Now, loop through target data set to pull all rows in chunks (we cannot pull all rows at once)\n",
    "# AGAIN, UPDATE WHERE FILTER INSIDE BELOW FUNCTION\n",
    "\n",
    "def extract_socrata_data(chunk_size = 2500,\n",
    "                         data_set = data_set,\n",
    "                         where = None):\n",
    "    \n",
    "    # measure time this function takes\n",
    "    import time\n",
    "    start_time = time.time()\n",
    "    \n",
    "    # get total number or records\n",
    "    if where == None:\n",
    "        total_records = int(nyc_open_data_client.get(data_set,\n",
    "                                                     select= \"COUNT(*)\")[0][\"COUNT\"])\n",
    "    else:\n",
    "        total_records = int(nyc_open_data_client.get(data_set,\n",
    "                                                     where = where,\n",
    "                                                     select= \"COUNT(*)\")[0][\"COUNT\"])\n",
    "    \n",
    "    # start at 0, empty list for results\n",
    "    start = 0                   \n",
    "    results = []                \n",
    "\n",
    "    while True:\n",
    "\n",
    "        if where == None:\n",
    "            # fetch the set of records starting at 'start'\n",
    "            results.extend(nyc_open_data_client.get(data_set,\n",
    "                                                    offset = start,\n",
    "                                                    limit = chunk_size))\n",
    "            \n",
    "        elif where != None:\n",
    "            results.extend(nyc_open_data_client.get(data_set,\n",
    "                                                    where = where,\n",
    "                                                    offset = start,\n",
    "                                                    limit = chunk_size))\n",
    "        # update the starting record number\n",
    "        start = start + chunk_size\n",
    "\n",
    "        # if we have fetched all of the records (we have reached total_records), exit loop\n",
    "        if (start > total_records):\n",
    "            break\n",
    "\n",
    "    # convert the list into a pandas data frame\n",
    "    data = pd.DataFrame.from_records(results)\n",
    "\n",
    "    end_time = time.time()\n",
    "    print(f\"function took {round(end_time - start_time, 1)} seconds\")\n",
    "\n",
    "    print(f\"the shape of your dataframe is: {data.shape}\")\n",
    "    return data"
   ]
  },
  {
   "cell_type": "code",
   "execution_count": null,
   "id": "2f149099",
   "metadata": {},
   "outputs": [],
   "source": [
    "#Creating our dataframe\n",
    "df = extract_socrata_data(chunk_size = 2500,\n",
    "                         data_set = data_set)"
   ]
  },
  {
   "cell_type": "code",
   "execution_count": 12,
   "id": "cb5196b2",
   "metadata": {},
   "outputs": [
    {
     "data": {
      "text/plain": [
       "Index(['cmplnt_num', 'addr_pct_cd', 'boro_nm', 'cmplnt_fr_dt', 'cmplnt_fr_tm',\n",
       "       'cmplnt_to_tm', 'crm_atpt_cptd_cd', 'hadevelopt', 'jurisdiction_code',\n",
       "       'juris_desc', 'ky_cd', 'law_cat_cd', 'loc_of_occur_desc', 'ofns_desc',\n",
       "       'parks_nm', 'patrol_boro', 'pd_cd', 'pd_desc', 'prem_typ_desc',\n",
       "       'rpt_dt', 'station_name', 'susp_age_group', 'susp_race', 'susp_sex',\n",
       "       'vic_age_group', 'vic_race', 'vic_sex', 'x_coord_cd', 'y_coord_cd',\n",
       "       'latitude', 'longitude', 'lat_lon', 'geocoded_column',\n",
       "       ':@computed_region_efsh_h5xi', ':@computed_region_f5dn_yrer',\n",
       "       ':@computed_region_yeji_bk3q', ':@computed_region_92fq_4b7q',\n",
       "       ':@computed_region_sbqj_enih', 'cmplnt_to_dt', 'housing_psa',\n",
       "       'transit_district'],\n",
       "      dtype='object')"
      ]
     },
     "execution_count": 12,
     "metadata": {},
     "output_type": "execute_result"
    }
   ],
   "source": [
    "#checking the names of our columns\n",
    "df.columns"
   ]
  },
  {
   "cell_type": "code",
   "execution_count": 13,
   "id": "04d33985",
   "metadata": {},
   "outputs": [
    {
     "name": "stdout",
     "output_type": "stream",
     "text": [
      "columns left in dataframe: Index(['cmplnt_num', 'boro_nm', 'cmplnt_fr_dt', 'cmplnt_fr_tm', 'cmplnt_to_tm',\n",
      "       'crm_atpt_cptd_cd', 'law_cat_cd', 'pd_cd', 'pd_desc', 'susp_age_group',\n",
      "       'susp_sex', 'vic_age_group', 'vic_race', 'vic_sex', 'latitude',\n",
      "       'longitude', 'cmplnt_to_dt'],\n",
      "      dtype='object')\n"
     ]
    }
   ],
   "source": [
    "# deleting the columns that are not needed\n",
    "\n",
    "drop_columns = [\"susp_race\", \"addr_pct_cd\", \"hadevelopt\", \"jurisdiction_code\", \"juris_desc\", \"ky_cd\", \n",
    "                \"loc_of_occur_desc\", \"ofns_desc\", \"parks_nm\", \"patrol_boro\", \"prem_typ_desc\",\n",
    "                \"rpt_dt\", \"station_name\", \"x_coord_cd\", \"y_coord_cd\", \"lat_lon\", \"geocoded_column\",\n",
    "                \":@computed_region_efsh_h5xi\", \":@computed_region_f5dn_yrer\", \":@computed_region_yeji_bk3q\",\n",
    "                \":@computed_region_92fq_4b7q\", \":@computed_region_sbqj_enih\", \"housing_psa\", \"transit_district\"]\n",
    "\n",
    "for column in drop_columns:\n",
    "    try:\n",
    "        df.drop(column, axis = 1, inplace = True)\n",
    "    except:\n",
    "        print(f\"unable to drop {column}\")\n",
    "\n",
    "print(f\"columns left in dataframe: {df.columns}\")"
   ]
  },
  {
   "cell_type": "code",
   "execution_count": 14,
   "id": "af1ae578",
   "metadata": {},
   "outputs": [],
   "source": [
    "# creating and running a function to ceate data profiling dataframe\n",
    "\n",
    "def create_data_profiling_df(data):\n",
    "    \n",
    "    # create an empty dataframe to gather information about each column\n",
    "    data_profiling_df = pd.DataFrame(columns = [\"column_name\",\n",
    "                                                \"column_type\",\n",
    "                                                \"unique_values\",\n",
    "                                                \"duplicate_values\",\n",
    "                                                \"null_values\",\n",
    "                                                \"non_null_values\"])\n",
    "\n",
    "    # loop through each column to add rows to the data_profiling_df dataframe\n",
    "    for column in data.columns:\n",
    "\n",
    "        info_dict = {}\n",
    "\n",
    "        try:\n",
    "            info_dict[\"column_name\"] = column\n",
    "            info_dict[\"column_type\"] = data[column].dtypes\n",
    "            info_dict[\"unique_values\"] = len(data[column].unique())\n",
    "            info_dict[\"duplicate_values\"] = data[column].count() - len(data[column].dropna().unique())\n",
    "            info_dict[\"null_values\"] = data[column].isna().sum()\n",
    "            info_dict[\"non_null_values\"] = data[column].count()\n",
    "\n",
    "        except:\n",
    "            print(f\"unable to read column: {column}, you may want to drop this column\")\n",
    "\n",
    "        data_profiling_df = data_profiling_df.append(info_dict, ignore_index=True)\n",
    "\n",
    "    data_profiling_df.sort_values(by = ['unique_values', \"non_null_values\"],\n",
    "                                  ascending = [False, False],\n",
    "                                  inplace=True)\n",
    "    \n",
    "    return data_profiling_df"
   ]
  },
  {
   "cell_type": "code",
   "execution_count": 15,
   "id": "911514a1",
   "metadata": {},
   "outputs": [],
   "source": [
    "\n",
    "data_profiling_df = create_data_profiling_df(data = df)"
   ]
  },
  {
   "cell_type": "code",
   "execution_count": 16,
   "id": "d46630b4",
   "metadata": {},
   "outputs": [
    {
     "data": {
      "text/html": [
       "<div>\n",
       "<style scoped>\n",
       "    .dataframe tbody tr th:only-of-type {\n",
       "        vertical-align: middle;\n",
       "    }\n",
       "\n",
       "    .dataframe tbody tr th {\n",
       "        vertical-align: top;\n",
       "    }\n",
       "\n",
       "    .dataframe thead th {\n",
       "        text-align: right;\n",
       "    }\n",
       "</style>\n",
       "<table border=\"1\" class=\"dataframe\">\n",
       "  <thead>\n",
       "    <tr style=\"text-align: right;\">\n",
       "      <th></th>\n",
       "      <th>column_name</th>\n",
       "      <th>column_type</th>\n",
       "      <th>unique_values</th>\n",
       "      <th>duplicate_values</th>\n",
       "      <th>null_values</th>\n",
       "      <th>non_null_values</th>\n",
       "    </tr>\n",
       "  </thead>\n",
       "  <tbody>\n",
       "    <tr>\n",
       "      <th>0</th>\n",
       "      <td>cmplnt_num</td>\n",
       "      <td>object</td>\n",
       "      <td>396865</td>\n",
       "      <td>113</td>\n",
       "      <td>0</td>\n",
       "      <td>396978</td>\n",
       "    </tr>\n",
       "    <tr>\n",
       "      <th>15</th>\n",
       "      <td>longitude</td>\n",
       "      <td>object</td>\n",
       "      <td>57762</td>\n",
       "      <td>339208</td>\n",
       "      <td>9</td>\n",
       "      <td>396969</td>\n",
       "    </tr>\n",
       "    <tr>\n",
       "      <th>14</th>\n",
       "      <td>latitude</td>\n",
       "      <td>object</td>\n",
       "      <td>57387</td>\n",
       "      <td>339583</td>\n",
       "      <td>9</td>\n",
       "      <td>396969</td>\n",
       "    </tr>\n",
       "    <tr>\n",
       "      <th>2</th>\n",
       "      <td>cmplnt_fr_dt</td>\n",
       "      <td>object</td>\n",
       "      <td>1785</td>\n",
       "      <td>395193</td>\n",
       "      <td>0</td>\n",
       "      <td>396978</td>\n",
       "    </tr>\n",
       "    <tr>\n",
       "      <th>4</th>\n",
       "      <td>cmplnt_to_tm</td>\n",
       "      <td>object</td>\n",
       "      <td>1441</td>\n",
       "      <td>395537</td>\n",
       "      <td>0</td>\n",
       "      <td>396978</td>\n",
       "    </tr>\n",
       "    <tr>\n",
       "      <th>3</th>\n",
       "      <td>cmplnt_fr_tm</td>\n",
       "      <td>object</td>\n",
       "      <td>1440</td>\n",
       "      <td>395538</td>\n",
       "      <td>0</td>\n",
       "      <td>396978</td>\n",
       "    </tr>\n",
       "    <tr>\n",
       "      <th>16</th>\n",
       "      <td>cmplnt_to_dt</td>\n",
       "      <td>object</td>\n",
       "      <td>1226</td>\n",
       "      <td>366360</td>\n",
       "      <td>29393</td>\n",
       "      <td>367585</td>\n",
       "    </tr>\n",
       "    <tr>\n",
       "      <th>7</th>\n",
       "      <td>pd_cd</td>\n",
       "      <td>object</td>\n",
       "      <td>361</td>\n",
       "      <td>396178</td>\n",
       "      <td>440</td>\n",
       "      <td>396538</td>\n",
       "    </tr>\n",
       "    <tr>\n",
       "      <th>8</th>\n",
       "      <td>pd_desc</td>\n",
       "      <td>object</td>\n",
       "      <td>351</td>\n",
       "      <td>396627</td>\n",
       "      <td>0</td>\n",
       "      <td>396978</td>\n",
       "    </tr>\n",
       "    <tr>\n",
       "      <th>11</th>\n",
       "      <td>vic_age_group</td>\n",
       "      <td>object</td>\n",
       "      <td>24</td>\n",
       "      <td>396954</td>\n",
       "      <td>0</td>\n",
       "      <td>396978</td>\n",
       "    </tr>\n",
       "    <tr>\n",
       "      <th>9</th>\n",
       "      <td>susp_age_group</td>\n",
       "      <td>object</td>\n",
       "      <td>21</td>\n",
       "      <td>396957</td>\n",
       "      <td>0</td>\n",
       "      <td>396978</td>\n",
       "    </tr>\n",
       "    <tr>\n",
       "      <th>12</th>\n",
       "      <td>vic_race</td>\n",
       "      <td>object</td>\n",
       "      <td>8</td>\n",
       "      <td>396970</td>\n",
       "      <td>0</td>\n",
       "      <td>396978</td>\n",
       "    </tr>\n",
       "    <tr>\n",
       "      <th>1</th>\n",
       "      <td>boro_nm</td>\n",
       "      <td>object</td>\n",
       "      <td>6</td>\n",
       "      <td>396972</td>\n",
       "      <td>0</td>\n",
       "      <td>396978</td>\n",
       "    </tr>\n",
       "    <tr>\n",
       "      <th>13</th>\n",
       "      <td>vic_sex</td>\n",
       "      <td>object</td>\n",
       "      <td>5</td>\n",
       "      <td>396973</td>\n",
       "      <td>0</td>\n",
       "      <td>396978</td>\n",
       "    </tr>\n",
       "    <tr>\n",
       "      <th>10</th>\n",
       "      <td>susp_sex</td>\n",
       "      <td>object</td>\n",
       "      <td>4</td>\n",
       "      <td>396974</td>\n",
       "      <td>0</td>\n",
       "      <td>396978</td>\n",
       "    </tr>\n",
       "    <tr>\n",
       "      <th>6</th>\n",
       "      <td>law_cat_cd</td>\n",
       "      <td>object</td>\n",
       "      <td>3</td>\n",
       "      <td>396975</td>\n",
       "      <td>0</td>\n",
       "      <td>396978</td>\n",
       "    </tr>\n",
       "    <tr>\n",
       "      <th>5</th>\n",
       "      <td>crm_atpt_cptd_cd</td>\n",
       "      <td>object</td>\n",
       "      <td>2</td>\n",
       "      <td>396976</td>\n",
       "      <td>0</td>\n",
       "      <td>396978</td>\n",
       "    </tr>\n",
       "  </tbody>\n",
       "</table>\n",
       "</div>"
      ],
      "text/plain": [
       "         column_name column_type unique_values duplicate_values null_values  \\\n",
       "0         cmplnt_num      object        396865              113           0   \n",
       "15         longitude      object         57762           339208           9   \n",
       "14          latitude      object         57387           339583           9   \n",
       "2       cmplnt_fr_dt      object          1785           395193           0   \n",
       "4       cmplnt_to_tm      object          1441           395537           0   \n",
       "3       cmplnt_fr_tm      object          1440           395538           0   \n",
       "16      cmplnt_to_dt      object          1226           366360       29393   \n",
       "7              pd_cd      object           361           396178         440   \n",
       "8            pd_desc      object           351           396627           0   \n",
       "11     vic_age_group      object            24           396954           0   \n",
       "9     susp_age_group      object            21           396957           0   \n",
       "12          vic_race      object             8           396970           0   \n",
       "1            boro_nm      object             6           396972           0   \n",
       "13           vic_sex      object             5           396973           0   \n",
       "10          susp_sex      object             4           396974           0   \n",
       "6         law_cat_cd      object             3           396975           0   \n",
       "5   crm_atpt_cptd_cd      object             2           396976           0   \n",
       "\n",
       "   non_null_values  \n",
       "0           396978  \n",
       "15          396969  \n",
       "14          396969  \n",
       "2           396978  \n",
       "4           396978  \n",
       "3           396978  \n",
       "16          367585  \n",
       "7           396538  \n",
       "8           396978  \n",
       "11          396978  \n",
       "9           396978  \n",
       "12          396978  \n",
       "1           396978  \n",
       "13          396978  \n",
       "10          396978  \n",
       "6           396978  \n",
       "5           396978  "
      ]
     },
     "execution_count": 16,
     "metadata": {},
     "output_type": "execute_result"
    }
   ],
   "source": [
    "data_profiling_df"
   ]
  },
  {
   "cell_type": "code",
   "execution_count": 17,
   "id": "00082821",
   "metadata": {},
   "outputs": [
    {
     "name": "stdout",
     "output_type": "stream",
     "text": [
      "number of duplicate rows: 11\n"
     ]
    }
   ],
   "source": [
    "# find number of duplicate rows\n",
    "\n",
    "print(f\"number of duplicate rows: {len(df[df.duplicated()])}\")"
   ]
  },
  {
   "cell_type": "code",
   "execution_count": 18,
   "id": "5f842363",
   "metadata": {},
   "outputs": [
    {
     "name": "stdout",
     "output_type": "stream",
     "text": [
      "number of rows after duplicates dropped: 396967\n"
     ]
    }
   ],
   "source": [
    "# drop duplicate rows based on entire row\n",
    "df = df.drop_duplicates(keep = 'first')\n",
    "\n",
    "# Or, based on a subset of rows, uncomment below and adjust accordingly\n",
    "## data = data.drop_duplicates(subset = [\"subset column\"], keep = 'first')\n",
    "## data = data.drop_duplicates(subset = [\"subset column 1\", \"subset column 2\"], keep = 'first')\n",
    "\n",
    "print(f\"number of rows after duplicates dropped: {len(df)}\")"
   ]
  },
  {
   "cell_type": "code",
   "execution_count": 19,
   "id": "3f198b36",
   "metadata": {},
   "outputs": [
    {
     "name": "stdout",
     "output_type": "stream",
     "text": [
      "396967\n"
     ]
    }
   ],
   "source": [
    "#drop rows with null values\n",
    "#2 = if 2 null values in a row then its dropped (threshold)\n",
    "#subset to drop rows where null in route and direction\n",
    "#.dropna(thresh = 2, subset = [\"route\", \"direction\"], inplace = True)\n",
    "df.dropna(thresh = 2, inplace = True)\n",
    "print(len(df))"
   ]
  },
  {
   "cell_type": "code",
   "execution_count": 20,
   "id": "e04f18ff",
   "metadata": {},
   "outputs": [],
   "source": [
    "#Creating the suspect dimension, first we copy the df\n",
    "SuspectDim = df.copy()"
   ]
  },
  {
   "cell_type": "code",
   "execution_count": 21,
   "id": "be1baca6",
   "metadata": {},
   "outputs": [],
   "source": [
    "#Now, subset for only the wanted columns in the dimension\n",
    "SuspectDim = SuspectDim[[\"susp_sex\", \"susp_age_group\"]]"
   ]
  },
  {
   "cell_type": "code",
   "execution_count": 22,
   "id": "ccf3e0e9",
   "metadata": {},
   "outputs": [
    {
     "data": {
      "text/html": [
       "<div>\n",
       "<style scoped>\n",
       "    .dataframe tbody tr th:only-of-type {\n",
       "        vertical-align: middle;\n",
       "    }\n",
       "\n",
       "    .dataframe tbody tr th {\n",
       "        vertical-align: top;\n",
       "    }\n",
       "\n",
       "    .dataframe thead th {\n",
       "        text-align: right;\n",
       "    }\n",
       "</style>\n",
       "<table border=\"1\" class=\"dataframe\">\n",
       "  <thead>\n",
       "    <tr style=\"text-align: right;\">\n",
       "      <th></th>\n",
       "      <th>susp_id</th>\n",
       "      <th>susp_sex</th>\n",
       "      <th>susp_age_group</th>\n",
       "    </tr>\n",
       "  </thead>\n",
       "  <tbody>\n",
       "    <tr>\n",
       "      <th>0</th>\n",
       "      <td>1</td>\n",
       "      <td>M</td>\n",
       "      <td>25-44</td>\n",
       "    </tr>\n",
       "    <tr>\n",
       "      <th>1</th>\n",
       "      <td>2</td>\n",
       "      <td>U</td>\n",
       "      <td>25-44</td>\n",
       "    </tr>\n",
       "    <tr>\n",
       "      <th>2</th>\n",
       "      <td>3</td>\n",
       "      <td>(null)</td>\n",
       "      <td>(null)</td>\n",
       "    </tr>\n",
       "    <tr>\n",
       "      <th>3</th>\n",
       "      <td>4</td>\n",
       "      <td>(null)</td>\n",
       "      <td>(null)</td>\n",
       "    </tr>\n",
       "    <tr>\n",
       "      <th>4</th>\n",
       "      <td>5</td>\n",
       "      <td>(null)</td>\n",
       "      <td>(null)</td>\n",
       "    </tr>\n",
       "  </tbody>\n",
       "</table>\n",
       "</div>"
      ],
      "text/plain": [
       "   susp_id susp_sex susp_age_group\n",
       "0        1        M          25-44\n",
       "1        2        U          25-44\n",
       "2        3   (null)         (null)\n",
       "3        4   (null)         (null)\n",
       "4        5   (null)         (null)"
      ]
     },
     "execution_count": 22,
     "metadata": {},
     "output_type": "execute_result"
    }
   ],
   "source": [
    "# Now, add SUSP_ID as a surrogate key\n",
    "SuspectDim.insert(0, 'susp_id', range(1, 1 + len(SuspectDim)))\n",
    "SuspectDim.head()"
   ]
  },
  {
   "cell_type": "code",
   "execution_count": 23,
   "id": "9042a8ae",
   "metadata": {},
   "outputs": [],
   "source": [
    "# Creating the Victim Dimension, first we copy the df\n",
    "VictimDim = df.copy()"
   ]
  },
  {
   "cell_type": "code",
   "execution_count": 24,
   "id": "a4fce9c7",
   "metadata": {},
   "outputs": [],
   "source": [
    "#Now, subset for only the wanted columns in the dimension\n",
    "VictimDim = VictimDim[[\"vic_sex\", \"vic_age_group\", \"vic_race\"]]"
   ]
  },
  {
   "cell_type": "code",
   "execution_count": 25,
   "id": "b8d4e7ba",
   "metadata": {},
   "outputs": [
    {
     "data": {
      "text/html": [
       "<div>\n",
       "<style scoped>\n",
       "    .dataframe tbody tr th:only-of-type {\n",
       "        vertical-align: middle;\n",
       "    }\n",
       "\n",
       "    .dataframe tbody tr th {\n",
       "        vertical-align: top;\n",
       "    }\n",
       "\n",
       "    .dataframe thead th {\n",
       "        text-align: right;\n",
       "    }\n",
       "</style>\n",
       "<table border=\"1\" class=\"dataframe\">\n",
       "  <thead>\n",
       "    <tr style=\"text-align: right;\">\n",
       "      <th></th>\n",
       "      <th>vic_id</th>\n",
       "      <th>vic_sex</th>\n",
       "      <th>vic_age_group</th>\n",
       "      <th>vic_race</th>\n",
       "    </tr>\n",
       "  </thead>\n",
       "  <tbody>\n",
       "    <tr>\n",
       "      <th>0</th>\n",
       "      <td>1</td>\n",
       "      <td>D</td>\n",
       "      <td>UNKNOWN</td>\n",
       "      <td>UNKNOWN</td>\n",
       "    </tr>\n",
       "    <tr>\n",
       "      <th>1</th>\n",
       "      <td>2</td>\n",
       "      <td>F</td>\n",
       "      <td>&lt;18</td>\n",
       "      <td>BLACK</td>\n",
       "    </tr>\n",
       "    <tr>\n",
       "      <th>2</th>\n",
       "      <td>3</td>\n",
       "      <td>M</td>\n",
       "      <td>18-24</td>\n",
       "      <td>ASIAN / PACIFIC ISLANDER</td>\n",
       "    </tr>\n",
       "    <tr>\n",
       "      <th>3</th>\n",
       "      <td>4</td>\n",
       "      <td>M</td>\n",
       "      <td>45-64</td>\n",
       "      <td>WHITE</td>\n",
       "    </tr>\n",
       "    <tr>\n",
       "      <th>4</th>\n",
       "      <td>5</td>\n",
       "      <td>M</td>\n",
       "      <td>65+</td>\n",
       "      <td>BLACK</td>\n",
       "    </tr>\n",
       "  </tbody>\n",
       "</table>\n",
       "</div>"
      ],
      "text/plain": [
       "   vic_id vic_sex vic_age_group                  vic_race\n",
       "0       1       D       UNKNOWN                   UNKNOWN\n",
       "1       2       F           <18                     BLACK\n",
       "2       3       M         18-24  ASIAN / PACIFIC ISLANDER\n",
       "3       4       M         45-64                     WHITE\n",
       "4       5       M           65+                     BLACK"
      ]
     },
     "execution_count": 25,
     "metadata": {},
     "output_type": "execute_result"
    }
   ],
   "source": [
    "# Now, add VIC_ID as a surrogate key\n",
    "VictimDim.insert(0, 'vic_id', range(1, 1 + len(VictimDim)))\n",
    "VictimDim.head()"
   ]
  },
  {
   "cell_type": "code",
   "execution_count": 26,
   "id": "b9c0ef80",
   "metadata": {},
   "outputs": [
    {
     "data": {
      "text/plain": [
       "0   2022-07-11\n",
       "1   2021-01-01\n",
       "2   2021-12-24\n",
       "3   2015-06-15\n",
       "4   2018-01-01\n",
       "Name: cmplnt_fr_dt, dtype: datetime64[ns]"
      ]
     },
     "execution_count": 26,
     "metadata": {},
     "output_type": "execute_result"
    }
   ],
   "source": [
    "#Now, subset for only the wanted columns in the dimension\n",
    "df[\"cmplnt_fr_dt\"] = pd.to_datetime(df[\"cmplnt_fr_dt\"], errors = 'coerce')\n",
    "df[\"cmplnt_fr_dt\"] = df[\"cmplnt_fr_dt\"].dt.floor('D')\n",
    "df[\"cmplnt_fr_dt\"].head()"
   ]
  },
  {
   "cell_type": "code",
   "execution_count": 28,
   "id": "bca44873",
   "metadata": {},
   "outputs": [
    {
     "data": {
      "text/plain": [
       "0          NaT\n",
       "1   2022-09-07\n",
       "2   2022-01-03\n",
       "3   2022-07-13\n",
       "4   2021-04-14\n",
       "Name: cmplnt_to_dt, dtype: datetime64[ns]"
      ]
     },
     "execution_count": 28,
     "metadata": {},
     "output_type": "execute_result"
    }
   ],
   "source": [
    "#Now, subset for only the wanted columns in the dimension\n",
    "df[\"cmplnt_to_dt\"] = pd.to_datetime(df[\"cmplnt_to_dt\"], errors = 'coerce')\n",
    "df[\"cmplnt_to_dt\"] = df[\"cmplnt_to_dt\"].dt.floor('D')\n",
    "df[\"cmplnt_to_dt\"].head()"
   ]
  },
  {
   "cell_type": "code",
   "execution_count": 29,
   "id": "bc2c01e8",
   "metadata": {},
   "outputs": [],
   "source": [
    "# Creating the date dimension, first, copy the entire table\n",
    "DateDim = df.copy()"
   ]
  },
  {
   "cell_type": "code",
   "execution_count": 30,
   "id": "5e14a1e2",
   "metadata": {},
   "outputs": [
    {
     "name": "stdout",
     "output_type": "stream",
     "text": [
      "date dimension created successfully, shape of dimension: (1462, 7)\n"
     ]
    }
   ],
   "source": [
    "## ACTION REQUIRED: update the start and end date at the bottom of the sql_query variable to fit your needs\n",
    "\n",
    "sql_query = \"\"\"\n",
    "            SELECT\n",
    "              CONCAT (FORMAT_DATE(\"%Y\",d),FORMAT_DATE(\"%m\",d),FORMAT_DATE(\"%d\",d)) as date_id,\n",
    "              d AS full_date,\n",
    "              FORMAT_DATE('%w', d) AS week_day,\n",
    "              FORMAT_DATE('%A', d) AS day_name,\n",
    "              FORMAT_DATE('%B', d) as month_name,\n",
    "              FORMAT_DATE('%Q', d) as fiscal_qtr,\n",
    "              FORMAT_DATE('%Y', d) AS year,\n",
    "            FROM (\n",
    "              SELECT\n",
    "                *\n",
    "              FROM\n",
    "                UNNEST(GENERATE_DATE_ARRAY('2020-01-01', '2024-01-01', INTERVAL 1 DAY)) AS d )\n",
    "            \"\"\"\n",
    "\n",
    "# store extracted data in new dataframe\n",
    "date_dim = bigquery_client.query(sql_query).to_dataframe()\n",
    "\n",
    "# validate that > 0 rows have been extracted and return dataframe\n",
    "if len(date_dim) > 0:\n",
    "    print(f\"date dimension created successfully, shape of dimension: {date_dim.shape}\")\n",
    "else:\n",
    "    print(\"date dimension FAILED\")"
   ]
  },
  {
   "cell_type": "code",
   "execution_count": 31,
   "id": "0fb9c3c2",
   "metadata": {},
   "outputs": [
    {
     "data": {
      "text/html": [
       "<div>\n",
       "<style scoped>\n",
       "    .dataframe tbody tr th:only-of-type {\n",
       "        vertical-align: middle;\n",
       "    }\n",
       "\n",
       "    .dataframe tbody tr th {\n",
       "        vertical-align: top;\n",
       "    }\n",
       "\n",
       "    .dataframe thead th {\n",
       "        text-align: right;\n",
       "    }\n",
       "</style>\n",
       "<table border=\"1\" class=\"dataframe\">\n",
       "  <thead>\n",
       "    <tr style=\"text-align: right;\">\n",
       "      <th></th>\n",
       "      <th>date_id</th>\n",
       "      <th>full_date</th>\n",
       "      <th>week_day</th>\n",
       "      <th>day_name</th>\n",
       "      <th>month_name</th>\n",
       "      <th>fiscal_qtr</th>\n",
       "      <th>year</th>\n",
       "    </tr>\n",
       "  </thead>\n",
       "  <tbody>\n",
       "    <tr>\n",
       "      <th>1457</th>\n",
       "      <td>20231228</td>\n",
       "      <td>2023-12-28</td>\n",
       "      <td>4</td>\n",
       "      <td>Thursday</td>\n",
       "      <td>December</td>\n",
       "      <td>4</td>\n",
       "      <td>2023</td>\n",
       "    </tr>\n",
       "    <tr>\n",
       "      <th>1458</th>\n",
       "      <td>20231229</td>\n",
       "      <td>2023-12-29</td>\n",
       "      <td>5</td>\n",
       "      <td>Friday</td>\n",
       "      <td>December</td>\n",
       "      <td>4</td>\n",
       "      <td>2023</td>\n",
       "    </tr>\n",
       "    <tr>\n",
       "      <th>1459</th>\n",
       "      <td>20231230</td>\n",
       "      <td>2023-12-30</td>\n",
       "      <td>6</td>\n",
       "      <td>Saturday</td>\n",
       "      <td>December</td>\n",
       "      <td>4</td>\n",
       "      <td>2023</td>\n",
       "    </tr>\n",
       "    <tr>\n",
       "      <th>1460</th>\n",
       "      <td>20231231</td>\n",
       "      <td>2023-12-31</td>\n",
       "      <td>0</td>\n",
       "      <td>Sunday</td>\n",
       "      <td>December</td>\n",
       "      <td>4</td>\n",
       "      <td>2023</td>\n",
       "    </tr>\n",
       "    <tr>\n",
       "      <th>1461</th>\n",
       "      <td>20240101</td>\n",
       "      <td>2024-01-01</td>\n",
       "      <td>1</td>\n",
       "      <td>Monday</td>\n",
       "      <td>January</td>\n",
       "      <td>1</td>\n",
       "      <td>2024</td>\n",
       "    </tr>\n",
       "  </tbody>\n",
       "</table>\n",
       "</div>"
      ],
      "text/plain": [
       "       date_id   full_date week_day  day_name month_name fiscal_qtr  year\n",
       "1457  20231228  2023-12-28        4  Thursday   December          4  2023\n",
       "1458  20231229  2023-12-29        5    Friday   December          4  2023\n",
       "1459  20231230  2023-12-30        6  Saturday   December          4  2023\n",
       "1460  20231231  2023-12-31        0    Sunday   December          4  2023\n",
       "1461  20240101  2024-01-01        1    Monday    January          1  2024"
      ]
     },
     "execution_count": 31,
     "metadata": {},
     "output_type": "execute_result"
    }
   ],
   "source": [
    "date_dim.tail()"
   ]
  },
  {
   "cell_type": "code",
   "execution_count": 68,
   "id": "5aedf7af",
   "metadata": {},
   "outputs": [],
   "source": [
    "# Creating the offense dimension, first, copy the entire table\n",
    "OffenseDim = df.copy()"
   ]
  },
  {
   "cell_type": "code",
   "execution_count": 69,
   "id": "9fed6cd1",
   "metadata": {},
   "outputs": [],
   "source": [
    "#Now, subset for only the wanted columns in the dimension\n",
    "OffenseDim = OffenseDim[['law_cat_cd', 'pd_cd', 'pd_desc']]"
   ]
  },
  {
   "cell_type": "code",
   "execution_count": 70,
   "id": "35fee1bf",
   "metadata": {},
   "outputs": [
    {
     "data": {
      "text/html": [
       "<div>\n",
       "<style scoped>\n",
       "    .dataframe tbody tr th:only-of-type {\n",
       "        vertical-align: middle;\n",
       "    }\n",
       "\n",
       "    .dataframe tbody tr th {\n",
       "        vertical-align: top;\n",
       "    }\n",
       "\n",
       "    .dataframe thead th {\n",
       "        text-align: right;\n",
       "    }\n",
       "</style>\n",
       "<table border=\"1\" class=\"dataframe\">\n",
       "  <thead>\n",
       "    <tr style=\"text-align: right;\">\n",
       "      <th></th>\n",
       "      <th>Offense_id</th>\n",
       "      <th>law_cat_cd</th>\n",
       "      <th>pd_cd</th>\n",
       "      <th>pd_desc</th>\n",
       "    </tr>\n",
       "  </thead>\n",
       "  <tbody>\n",
       "    <tr>\n",
       "      <th>0</th>\n",
       "      <td>100</td>\n",
       "      <td>FELONY</td>\n",
       "      <td>361</td>\n",
       "      <td>ROBBERY,BANK</td>\n",
       "    </tr>\n",
       "    <tr>\n",
       "      <th>1</th>\n",
       "      <td>101</td>\n",
       "      <td>FELONY</td>\n",
       "      <td>155</td>\n",
       "      <td>RAPE 2</td>\n",
       "    </tr>\n",
       "    <tr>\n",
       "      <th>2</th>\n",
       "      <td>102</td>\n",
       "      <td>FELONY</td>\n",
       "      <td>424</td>\n",
       "      <td>LARCENY,GRAND BY CREDIT CARD ACCT COMPROMISE-E...</td>\n",
       "    </tr>\n",
       "    <tr>\n",
       "      <th>3</th>\n",
       "      <td>103</td>\n",
       "      <td>FELONY</td>\n",
       "      <td>739</td>\n",
       "      <td>FRAUD,UNCLASSIFIED-FELONY</td>\n",
       "    </tr>\n",
       "    <tr>\n",
       "      <th>4</th>\n",
       "      <td>104</td>\n",
       "      <td>FELONY</td>\n",
       "      <td>739</td>\n",
       "      <td>FRAUD,UNCLASSIFIED-FELONY</td>\n",
       "    </tr>\n",
       "  </tbody>\n",
       "</table>\n",
       "</div>"
      ],
      "text/plain": [
       "   Offense_id law_cat_cd pd_cd  \\\n",
       "0         100     FELONY   361   \n",
       "1         101     FELONY   155   \n",
       "2         102     FELONY   424   \n",
       "3         103     FELONY   739   \n",
       "4         104     FELONY   739   \n",
       "\n",
       "                                             pd_desc  \n",
       "0                                       ROBBERY,BANK  \n",
       "1                                             RAPE 2  \n",
       "2  LARCENY,GRAND BY CREDIT CARD ACCT COMPROMISE-E...  \n",
       "3                          FRAUD,UNCLASSIFIED-FELONY  \n",
       "4                          FRAUD,UNCLASSIFIED-FELONY  "
      ]
     },
     "execution_count": 70,
     "metadata": {},
     "output_type": "execute_result"
    }
   ],
   "source": [
    "# Now, add offense_id as a surrogate key\n",
    "OffenseDim.insert(0, 'Offense_id', range(100, 100 + len(OffenseDim)))\n",
    "OffenseDim.head()"
   ]
  },
  {
   "cell_type": "code",
   "execution_count": 71,
   "id": "ec20813c",
   "metadata": {},
   "outputs": [],
   "source": [
    "#Creating the location dimension, first, copy the entire table\n",
    "LocationDim = df.copy()"
   ]
  },
  {
   "cell_type": "code",
   "execution_count": 72,
   "id": "37acbc2b",
   "metadata": {},
   "outputs": [],
   "source": [
    "#Now, subset for only the wanted columns in the dimension\n",
    "LocationDim = LocationDim[['latitude', 'longitude', 'boro_nm']]"
   ]
  },
  {
   "cell_type": "code",
   "execution_count": 73,
   "id": "dff28c39",
   "metadata": {},
   "outputs": [
    {
     "data": {
      "text/html": [
       "<div>\n",
       "<style scoped>\n",
       "    .dataframe tbody tr th:only-of-type {\n",
       "        vertical-align: middle;\n",
       "    }\n",
       "\n",
       "    .dataframe tbody tr th {\n",
       "        vertical-align: top;\n",
       "    }\n",
       "\n",
       "    .dataframe thead th {\n",
       "        text-align: right;\n",
       "    }\n",
       "</style>\n",
       "<table border=\"1\" class=\"dataframe\">\n",
       "  <thead>\n",
       "    <tr style=\"text-align: right;\">\n",
       "      <th></th>\n",
       "      <th>Location_id</th>\n",
       "      <th>latitude</th>\n",
       "      <th>longitude</th>\n",
       "      <th>boro_nm</th>\n",
       "    </tr>\n",
       "  </thead>\n",
       "  <tbody>\n",
       "    <tr>\n",
       "      <th>0</th>\n",
       "      <td>111000</td>\n",
       "      <td>40.833567</td>\n",
       "      <td>-73.861118</td>\n",
       "      <td>BRONX</td>\n",
       "    </tr>\n",
       "    <tr>\n",
       "      <th>1</th>\n",
       "      <td>111001</td>\n",
       "      <td>40.6488507469884</td>\n",
       "      <td>-73.951016510623</td>\n",
       "      <td>BROOKLYN</td>\n",
       "    </tr>\n",
       "    <tr>\n",
       "      <th>2</th>\n",
       "      <td>111002</td>\n",
       "      <td>40.619768</td>\n",
       "      <td>-74.08407</td>\n",
       "      <td>STATEN ISLAND</td>\n",
       "    </tr>\n",
       "    <tr>\n",
       "      <th>3</th>\n",
       "      <td>111003</td>\n",
       "      <td>40.749791</td>\n",
       "      <td>-73.893792</td>\n",
       "      <td>QUEENS</td>\n",
       "    </tr>\n",
       "    <tr>\n",
       "      <th>4</th>\n",
       "      <td>111004</td>\n",
       "      <td>40.671636</td>\n",
       "      <td>-73.863359</td>\n",
       "      <td>BROOKLYN</td>\n",
       "    </tr>\n",
       "  </tbody>\n",
       "</table>\n",
       "</div>"
      ],
      "text/plain": [
       "   Location_id          latitude         longitude        boro_nm\n",
       "0       111000         40.833567        -73.861118          BRONX\n",
       "1       111001  40.6488507469884  -73.951016510623       BROOKLYN\n",
       "2       111002         40.619768         -74.08407  STATEN ISLAND\n",
       "3       111003         40.749791        -73.893792         QUEENS\n",
       "4       111004         40.671636        -73.863359       BROOKLYN"
      ]
     },
     "execution_count": 73,
     "metadata": {},
     "output_type": "execute_result"
    }
   ],
   "source": [
    "# Now, add location_id as a surrogate key\n",
    "LocationDim.insert(0, 'Location_id', range(111000, 111000 + len(LocationDim)))\n",
    "LocationDim.head()"
   ]
  },
  {
   "cell_type": "code",
   "execution_count": 74,
   "id": "57949a6d",
   "metadata": {},
   "outputs": [],
   "source": [
    "#Merging the original df with all the dimensions created to make one large dataset\n",
    "#We tried to use the df.merge but got a memory issue\n",
    "#Now using pandas concatenate to merge the file\n",
    "df1 = pd.concat([df, date_dim.date_id, time_dim.time_id, VictimDim.vic_id, SuspectDim.susp_id,\n",
    "                           OffenseDim.Offense_id, LocationDim.Location_id],axis = 1)"
   ]
  },
  {
   "cell_type": "code",
   "execution_count": 75,
   "id": "58fcac22",
   "metadata": {},
   "outputs": [
    {
     "data": {
      "text/html": [
       "<div>\n",
       "<style scoped>\n",
       "    .dataframe tbody tr th:only-of-type {\n",
       "        vertical-align: middle;\n",
       "    }\n",
       "\n",
       "    .dataframe tbody tr th {\n",
       "        vertical-align: top;\n",
       "    }\n",
       "\n",
       "    .dataframe thead th {\n",
       "        text-align: right;\n",
       "    }\n",
       "</style>\n",
       "<table border=\"1\" class=\"dataframe\">\n",
       "  <thead>\n",
       "    <tr style=\"text-align: right;\">\n",
       "      <th></th>\n",
       "      <th>cmplnt_num</th>\n",
       "      <th>boro_nm</th>\n",
       "      <th>cmplnt_fr_dt</th>\n",
       "      <th>cmplnt_fr_tm</th>\n",
       "      <th>cmplnt_to_tm</th>\n",
       "      <th>crm_atpt_cptd_cd</th>\n",
       "      <th>law_cat_cd</th>\n",
       "      <th>pd_cd</th>\n",
       "      <th>pd_desc</th>\n",
       "      <th>susp_age_group</th>\n",
       "      <th>...</th>\n",
       "      <th>vic_sex</th>\n",
       "      <th>latitude</th>\n",
       "      <th>longitude</th>\n",
       "      <th>cmplnt_to_dt</th>\n",
       "      <th>date_id</th>\n",
       "      <th>time_id</th>\n",
       "      <th>vic_id</th>\n",
       "      <th>susp_id</th>\n",
       "      <th>Offense_id</th>\n",
       "      <th>Location_id</th>\n",
       "    </tr>\n",
       "  </thead>\n",
       "  <tbody>\n",
       "    <tr>\n",
       "      <th>0</th>\n",
       "      <td>247853895</td>\n",
       "      <td>BRONX</td>\n",
       "      <td>2022-07-11</td>\n",
       "      <td>09:09:00</td>\n",
       "      <td>(null)</td>\n",
       "      <td>COMPLETED</td>\n",
       "      <td>FELONY</td>\n",
       "      <td>361</td>\n",
       "      <td>ROBBERY,BANK</td>\n",
       "      <td>25-44</td>\n",
       "      <td>...</td>\n",
       "      <td>D</td>\n",
       "      <td>40.833567</td>\n",
       "      <td>-73.861118</td>\n",
       "      <td>NaT</td>\n",
       "      <td>20200101</td>\n",
       "      <td>0000</td>\n",
       "      <td>1</td>\n",
       "      <td>1</td>\n",
       "      <td>100</td>\n",
       "      <td>111000</td>\n",
       "    </tr>\n",
       "    <tr>\n",
       "      <th>1</th>\n",
       "      <td>250722124</td>\n",
       "      <td>BROOKLYN</td>\n",
       "      <td>2021-01-01</td>\n",
       "      <td>12:00:00</td>\n",
       "      <td>12:00:00</td>\n",
       "      <td>COMPLETED</td>\n",
       "      <td>FELONY</td>\n",
       "      <td>155</td>\n",
       "      <td>RAPE 2</td>\n",
       "      <td>25-44</td>\n",
       "      <td>...</td>\n",
       "      <td>F</td>\n",
       "      <td>40.6488507469884</td>\n",
       "      <td>-73.951016510623</td>\n",
       "      <td>2022-09-07</td>\n",
       "      <td>20200102</td>\n",
       "      <td>0001</td>\n",
       "      <td>2</td>\n",
       "      <td>2</td>\n",
       "      <td>101</td>\n",
       "      <td>111001</td>\n",
       "    </tr>\n",
       "    <tr>\n",
       "      <th>2</th>\n",
       "      <td>239511545</td>\n",
       "      <td>STATEN ISLAND</td>\n",
       "      <td>2021-12-24</td>\n",
       "      <td>08:00:00</td>\n",
       "      <td>08:00:00</td>\n",
       "      <td>COMPLETED</td>\n",
       "      <td>FELONY</td>\n",
       "      <td>424</td>\n",
       "      <td>LARCENY,GRAND BY CREDIT CARD ACCT COMPROMISE-E...</td>\n",
       "      <td>(null)</td>\n",
       "      <td>...</td>\n",
       "      <td>M</td>\n",
       "      <td>40.619768</td>\n",
       "      <td>-74.08407</td>\n",
       "      <td>2022-01-03</td>\n",
       "      <td>20200103</td>\n",
       "      <td>0002</td>\n",
       "      <td>3</td>\n",
       "      <td>3</td>\n",
       "      <td>102</td>\n",
       "      <td>111002</td>\n",
       "    </tr>\n",
       "    <tr>\n",
       "      <th>3</th>\n",
       "      <td>247992275</td>\n",
       "      <td>QUEENS</td>\n",
       "      <td>2015-06-15</td>\n",
       "      <td>00:01:00</td>\n",
       "      <td>17:00:00</td>\n",
       "      <td>COMPLETED</td>\n",
       "      <td>FELONY</td>\n",
       "      <td>739</td>\n",
       "      <td>FRAUD,UNCLASSIFIED-FELONY</td>\n",
       "      <td>(null)</td>\n",
       "      <td>...</td>\n",
       "      <td>M</td>\n",
       "      <td>40.749791</td>\n",
       "      <td>-73.893792</td>\n",
       "      <td>2022-07-13</td>\n",
       "      <td>20200104</td>\n",
       "      <td>0003</td>\n",
       "      <td>4</td>\n",
       "      <td>4</td>\n",
       "      <td>103</td>\n",
       "      <td>111003</td>\n",
       "    </tr>\n",
       "    <tr>\n",
       "      <th>4</th>\n",
       "      <td>239602232</td>\n",
       "      <td>BROOKLYN</td>\n",
       "      <td>2018-01-01</td>\n",
       "      <td>09:00:00</td>\n",
       "      <td>23:59:00</td>\n",
       "      <td>COMPLETED</td>\n",
       "      <td>FELONY</td>\n",
       "      <td>739</td>\n",
       "      <td>FRAUD,UNCLASSIFIED-FELONY</td>\n",
       "      <td>(null)</td>\n",
       "      <td>...</td>\n",
       "      <td>M</td>\n",
       "      <td>40.671636</td>\n",
       "      <td>-73.863359</td>\n",
       "      <td>2021-04-14</td>\n",
       "      <td>20200105</td>\n",
       "      <td>0004</td>\n",
       "      <td>5</td>\n",
       "      <td>5</td>\n",
       "      <td>104</td>\n",
       "      <td>111004</td>\n",
       "    </tr>\n",
       "  </tbody>\n",
       "</table>\n",
       "<p>5 rows × 23 columns</p>\n",
       "</div>"
      ],
      "text/plain": [
       "  cmplnt_num        boro_nm cmplnt_fr_dt cmplnt_fr_tm cmplnt_to_tm  \\\n",
       "0  247853895          BRONX   2022-07-11     09:09:00       (null)   \n",
       "1  250722124       BROOKLYN   2021-01-01     12:00:00     12:00:00   \n",
       "2  239511545  STATEN ISLAND   2021-12-24     08:00:00     08:00:00   \n",
       "3  247992275         QUEENS   2015-06-15     00:01:00     17:00:00   \n",
       "4  239602232       BROOKLYN   2018-01-01     09:00:00     23:59:00   \n",
       "\n",
       "  crm_atpt_cptd_cd law_cat_cd pd_cd  \\\n",
       "0        COMPLETED     FELONY   361   \n",
       "1        COMPLETED     FELONY   155   \n",
       "2        COMPLETED     FELONY   424   \n",
       "3        COMPLETED     FELONY   739   \n",
       "4        COMPLETED     FELONY   739   \n",
       "\n",
       "                                             pd_desc susp_age_group  ...  \\\n",
       "0                                       ROBBERY,BANK          25-44  ...   \n",
       "1                                             RAPE 2          25-44  ...   \n",
       "2  LARCENY,GRAND BY CREDIT CARD ACCT COMPROMISE-E...         (null)  ...   \n",
       "3                          FRAUD,UNCLASSIFIED-FELONY         (null)  ...   \n",
       "4                          FRAUD,UNCLASSIFIED-FELONY         (null)  ...   \n",
       "\n",
       "  vic_sex          latitude         longitude cmplnt_to_dt   date_id time_id  \\\n",
       "0       D         40.833567        -73.861118          NaT  20200101    0000   \n",
       "1       F  40.6488507469884  -73.951016510623   2022-09-07  20200102    0001   \n",
       "2       M         40.619768         -74.08407   2022-01-03  20200103    0002   \n",
       "3       M         40.749791        -73.893792   2022-07-13  20200104    0003   \n",
       "4       M         40.671636        -73.863359   2021-04-14  20200105    0004   \n",
       "\n",
       "  vic_id susp_id Offense_id  Location_id  \n",
       "0      1       1        100       111000  \n",
       "1      2       2        101       111001  \n",
       "2      3       3        102       111002  \n",
       "3      4       4        103       111003  \n",
       "4      5       5        104       111004  \n",
       "\n",
       "[5 rows x 23 columns]"
      ]
     },
     "execution_count": 75,
     "metadata": {},
     "output_type": "execute_result"
    }
   ],
   "source": [
    "df1.head()"
   ]
  },
  {
   "cell_type": "code",
   "execution_count": 76,
   "id": "cfbba457",
   "metadata": {},
   "outputs": [
    {
     "data": {
      "text/html": [
       "<div>\n",
       "<style scoped>\n",
       "    .dataframe tbody tr th:only-of-type {\n",
       "        vertical-align: middle;\n",
       "    }\n",
       "\n",
       "    .dataframe tbody tr th {\n",
       "        vertical-align: top;\n",
       "    }\n",
       "\n",
       "    .dataframe thead th {\n",
       "        text-align: right;\n",
       "    }\n",
       "</style>\n",
       "<table border=\"1\" class=\"dataframe\">\n",
       "  <thead>\n",
       "    <tr style=\"text-align: right;\">\n",
       "      <th></th>\n",
       "      <th>crm_atpt_cptd_cd</th>\n",
       "      <th>date_id</th>\n",
       "      <th>time_id</th>\n",
       "      <th>vic_id</th>\n",
       "      <th>susp_id</th>\n",
       "      <th>Offense_id</th>\n",
       "      <th>Location_id</th>\n",
       "    </tr>\n",
       "  </thead>\n",
       "  <tbody>\n",
       "    <tr>\n",
       "      <th>0</th>\n",
       "      <td>COMPLETED</td>\n",
       "      <td>20200101</td>\n",
       "      <td>0000</td>\n",
       "      <td>1</td>\n",
       "      <td>1</td>\n",
       "      <td>100</td>\n",
       "      <td>111000</td>\n",
       "    </tr>\n",
       "    <tr>\n",
       "      <th>1</th>\n",
       "      <td>COMPLETED</td>\n",
       "      <td>20200102</td>\n",
       "      <td>0001</td>\n",
       "      <td>2</td>\n",
       "      <td>2</td>\n",
       "      <td>101</td>\n",
       "      <td>111001</td>\n",
       "    </tr>\n",
       "    <tr>\n",
       "      <th>2</th>\n",
       "      <td>COMPLETED</td>\n",
       "      <td>20200103</td>\n",
       "      <td>0002</td>\n",
       "      <td>3</td>\n",
       "      <td>3</td>\n",
       "      <td>102</td>\n",
       "      <td>111002</td>\n",
       "    </tr>\n",
       "    <tr>\n",
       "      <th>3</th>\n",
       "      <td>COMPLETED</td>\n",
       "      <td>20200104</td>\n",
       "      <td>0003</td>\n",
       "      <td>4</td>\n",
       "      <td>4</td>\n",
       "      <td>103</td>\n",
       "      <td>111003</td>\n",
       "    </tr>\n",
       "    <tr>\n",
       "      <th>4</th>\n",
       "      <td>COMPLETED</td>\n",
       "      <td>20200105</td>\n",
       "      <td>0004</td>\n",
       "      <td>5</td>\n",
       "      <td>5</td>\n",
       "      <td>104</td>\n",
       "      <td>111004</td>\n",
       "    </tr>\n",
       "  </tbody>\n",
       "</table>\n",
       "</div>"
      ],
      "text/plain": [
       "  crm_atpt_cptd_cd   date_id time_id  vic_id  susp_id  Offense_id  Location_id\n",
       "0        COMPLETED  20200101    0000       1        1         100       111000\n",
       "1        COMPLETED  20200102    0001       2        2         101       111001\n",
       "2        COMPLETED  20200103    0002       3        3         102       111002\n",
       "3        COMPLETED  20200104    0003       4        4         103       111003\n",
       "4        COMPLETED  20200105    0004       5        5         104       111004"
      ]
     },
     "execution_count": 76,
     "metadata": {},
     "output_type": "execute_result"
    }
   ],
   "source": [
    "#Now, we create the fact table (CrimeComplaints)\n",
    "CrimeComplaints_fact = df1[[\"crm_atpt_cptd_cd\", \"date_id\", \"time_id\", \"vic_id\", \"susp_id\",\n",
    "                           \"Offense_id\", \"Location_id\"]]\n",
    "CrimeComplaints_fact.head()"
   ]
  },
  {
   "cell_type": "code",
   "execution_count": 77,
   "id": "bd5414e4",
   "metadata": {},
   "outputs": [],
   "source": [
    "# we create a function to load dataframes to BigQuery\n",
    "\n",
    "def load_table_to_bigquery(df,\n",
    "                          table_name,\n",
    "                          dataset_id):\n",
    "\n",
    "    dataset_id = dataset_id \n",
    "\n",
    "    dataset_ref = bigquery_client.dataset(dataset_id)\n",
    "    job_config = bigquery.LoadJobConfig()\n",
    "    job_config.autodetect = True\n",
    "    job_config.write_disposition = \"WRITE_TRUNCATE\"\n",
    "\n",
    "    upload_table_name = f\"{dataset_id}.{table_name}\"\n",
    "    \n",
    "    load_job = bigquery_client.load_table_from_dataframe(df,\n",
    "                                                upload_table_name,\n",
    "                                                job_config = job_config)\n",
    "        \n",
    "    print(f\"completed job {load_job}\")"
   ]
  },
  {
   "cell_type": "code",
   "execution_count": 78,
   "id": "83f1c6d6",
   "metadata": {},
   "outputs": [
    {
     "name": "stdout",
     "output_type": "stream",
     "text": [
      "completed job LoadJob<project=pro-bruin-361120, location=US, id=6aeddc7b-e941-4bf8-bc5c-b7091f86368e>\n"
     ]
    }
   ],
   "source": [
    "#1st loading CrimeComplaints_fact table to BigQuery\n",
    "\n",
    "load_table_to_bigquery(df = CrimeComplaints_fact,\n",
    "                          table_name = \"CrimeComplaints_fact\",\n",
    "                          dataset_id = dataset_id)"
   ]
  },
  {
   "cell_type": "code",
   "execution_count": 79,
   "id": "e8ebd54f",
   "metadata": {},
   "outputs": [
    {
     "name": "stdout",
     "output_type": "stream",
     "text": [
      "completed job LoadJob<project=pro-bruin-361120, location=US, id=e3ee10ae-9ec1-4afe-8e0c-9539b2f18665>\n"
     ]
    }
   ],
   "source": [
    "#loading SuspectDim table to BigQuery\n",
    "\n",
    "load_table_to_bigquery(df = SuspectDim,\n",
    "                          table_name = \"SuspectDim\",\n",
    "                          dataset_id = dataset_id)"
   ]
  },
  {
   "cell_type": "code",
   "execution_count": 80,
   "id": "ad48dff6",
   "metadata": {},
   "outputs": [
    {
     "name": "stdout",
     "output_type": "stream",
     "text": [
      "completed job LoadJob<project=pro-bruin-361120, location=US, id=636099aa-8102-4495-ab94-f71f6a2b3eff>\n"
     ]
    }
   ],
   "source": [
    "#loading VictimDim table to BigQuery\n",
    "\n",
    "load_table_to_bigquery(df = VictimDim,\n",
    "                          table_name = \"VictimDim\",\n",
    "                          dataset_id = dataset_id)"
   ]
  },
  {
   "cell_type": "code",
   "execution_count": 81,
   "id": "08ddc309",
   "metadata": {},
   "outputs": [
    {
     "name": "stdout",
     "output_type": "stream",
     "text": [
      "completed job LoadJob<project=pro-bruin-361120, location=US, id=0134bab9-adab-407c-b1a3-a6b977f02a39>\n"
     ]
    }
   ],
   "source": [
    "#loading DateDim table to BigQuery\n",
    "\n",
    "load_table_to_bigquery(df = date_dim,\n",
    "                          table_name = \"DateDim\",\n",
    "                          dataset_id = dataset_id)"
   ]
  },
  {
   "cell_type": "code",
   "execution_count": 82,
   "id": "6d473f09",
   "metadata": {},
   "outputs": [
    {
     "name": "stdout",
     "output_type": "stream",
     "text": [
      "completed job LoadJob<project=pro-bruin-361120, location=US, id=8c43c051-d4c1-464f-8411-1b7b1d06b32c>\n"
     ]
    }
   ],
   "source": [
    "#loading TimeDim table to BigQuery\n",
    "\n",
    "load_table_to_bigquery(df = time_dim,\n",
    "                          table_name = \"TimeDim\",\n",
    "                          dataset_id = dataset_id)"
   ]
  },
  {
   "cell_type": "code",
   "execution_count": 83,
   "id": "5af669db",
   "metadata": {},
   "outputs": [
    {
     "name": "stdout",
     "output_type": "stream",
     "text": [
      "completed job LoadJob<project=pro-bruin-361120, location=US, id=cbe90c92-a2a2-49e9-872d-5fb9b674bfaf>\n"
     ]
    }
   ],
   "source": [
    "#loading OffenseDim table to BigQuery\n",
    "\n",
    "load_table_to_bigquery(df = OffenseDim,\n",
    "                          table_name = \"OffenseDim\",\n",
    "                          dataset_id = dataset_id)"
   ]
  },
  {
   "cell_type": "code",
   "execution_count": 84,
   "id": "e35c6bf0",
   "metadata": {},
   "outputs": [
    {
     "name": "stdout",
     "output_type": "stream",
     "text": [
      "completed job LoadJob<project=pro-bruin-361120, location=US, id=e0724fc1-c989-4ff8-b472-218d46a80426>\n"
     ]
    }
   ],
   "source": [
    "#loading LocationDim table to BigQuery\n",
    "\n",
    "load_table_to_bigquery(df = LocationDim,\n",
    "                          table_name = \"LocationDim\",\n",
    "                          dataset_id = dataset_id)"
   ]
  },
  {
   "cell_type": "markdown",
   "id": "1c30e404",
   "metadata": {},
   "source": [
    "# Done: Loaded all Dimensions and Tables to BigQuery"
   ]
  },
  {
   "cell_type": "code",
   "execution_count": null,
   "id": "6ce9ffe1",
   "metadata": {},
   "outputs": [],
   "source": []
  }
 ],
 "metadata": {
  "kernelspec": {
   "display_name": "Python 3",
   "language": "python",
   "name": "python3"
  },
  "language_info": {
   "codemirror_mode": {
    "name": "ipython",
    "version": 3
   },
   "file_extension": ".py",
   "mimetype": "text/x-python",
   "name": "python",
   "nbconvert_exporter": "python",
   "pygments_lexer": "ipython3",
   "version": "3.8.8"
  }
 },
 "nbformat": 4,
 "nbformat_minor": 5
}
